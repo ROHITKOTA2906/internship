{
 "cells": [
  {
   "cell_type": "code",
   "execution_count": null,
   "id": "7a1f0eef",
   "metadata": {},
   "outputs": [],
   "source": [
    "Question 1- Write a RegEx pattern in python program to check that a string contains only a certain set of characters (in this case a-z, A-Z and 0-9)."
   ]
  },
  {
   "cell_type": "code",
   "execution_count": null,
   "id": "5d67d63c",
   "metadata": {},
   "outputs": [],
   "source": [
    "import re\n",
    "\n",
    "string = \"Hello Data Sience\"\n",
    "\n",
    "x = re.findall(\"[A-Z,a-z,0-9]\", string)\n",
    "print(x)\n"
   ]
  },
  {
   "cell_type": "code",
   "execution_count": null,
   "id": "3aca2c20",
   "metadata": {},
   "outputs": [],
   "source": [
    "Write a RegEx pattern that matches a string that has an a followed by zero or more b's"
   ]
  },
  {
   "cell_type": "code",
   "execution_count": null,
   "id": "2bc73dca",
   "metadata": {},
   "outputs": [],
   "source": [
    "import re\n",
    "\n",
    "str = \"An Apple a day keeps doctor away.\"\n",
    "\n",
    "x = re.findall(\".*b\", str)\n",
    "print(x)"
   ]
  },
  {
   "cell_type": "code",
   "execution_count": null,
   "id": "b72fe0a3",
   "metadata": {},
   "outputs": [],
   "source": [
    "Question 3-  Write a RegEx pattern that matches a string that has an a followed by one or more b's"
   ]
  },
  {
   "cell_type": "code",
   "execution_count": null,
   "id": "d5cf0157",
   "metadata": {},
   "outputs": [],
   "source": [
    "import re\n",
    "\n",
    "str1 = \"Data science is my best friend\"\n",
    "\n",
    "x = re.findall(\"Da.+b\", str1)\n",
    "\n",
    "print(x)"
   ]
  },
  {
   "cell_type": "code",
   "execution_count": null,
   "id": "fa22aa66",
   "metadata": {},
   "outputs": [],
   "source": [
    "Question 4- Write a RegEx pattern that matches a string that has an a followed by zero or one 'b'."
   ]
  },
  {
   "cell_type": "code",
   "execution_count": null,
   "id": "4791970a",
   "metadata": {},
   "outputs": [],
   "source": [
    "import re\n",
    "\n",
    "str2 = \"ac,abc,bcd\"\n",
    "\n",
    "x = re.findall(\"a.?b\", str2)\n",
    "\n",
    "print(x)\n"
   ]
  },
  {
   "cell_type": "code",
   "execution_count": null,
   "id": "de717c66",
   "metadata": {},
   "outputs": [],
   "source": [
    "Question 5- Write a RegEx pattern in python program that matches a string that has an a followed by three 'b'."
   ]
  },
  {
   "cell_type": "code",
   "execution_count": null,
   "id": "442e51ca",
   "metadata": {},
   "outputs": [],
   "source": [
    "import re\n",
    "\n",
    "str3 = \"alphabbbbettt\"\n",
    "\n",
    "\n",
    "x = re.findall(\"a.{3}b\", str3)\n",
    "\n",
    "print(x)"
   ]
  },
  {
   "cell_type": "code",
   "execution_count": null,
   "id": "a5049714",
   "metadata": {},
   "outputs": [],
   "source": [
    "Question 6- Write a RegEx pattern in python program that matches a string that has an a followed by two to three 'b'."
   ]
  },
  {
   "cell_type": "code",
   "execution_count": null,
   "id": "8292111d",
   "metadata": {},
   "outputs": [],
   "source": [
    "import re\n",
    "\n",
    "str4 = \"alphabbbbettt\"\n",
    "\n",
    "\n",
    "x = re.findall(\"a.{2,3}b\", str4)\n",
    "\n",
    "print(x)"
   ]
  },
  {
   "cell_type": "code",
   "execution_count": null,
   "id": "77faab2d",
   "metadata": {},
   "outputs": [],
   "source": [
    "Question 7- Write a Python program that matches a string that has an 'a' followed by anything, ending in 'b'."
   ]
  },
  {
   "cell_type": "code",
   "execution_count": null,
   "id": "328933ce",
   "metadata": {},
   "outputs": [],
   "source": [
    "import re\n",
    "\n",
    "str5 = \"absorb\"\n",
    "\n",
    "\n",
    "x = re.findall(\"a.*?b$\", str5)\n",
    "\n",
    "print(x)"
   ]
  },
  {
   "cell_type": "code",
   "execution_count": null,
   "id": "6efda231",
   "metadata": {},
   "outputs": [],
   "source": [
    "Question 8- Write a RegEx pattern in python program that matches a word at the beginning of a string."
   ]
  },
  {
   "cell_type": "code",
   "execution_count": null,
   "id": "8ff47975",
   "metadata": {},
   "outputs": [],
   "source": [
    "import re\n",
    "\n",
    "str6 = \"Data Science is used in AI\"\n",
    "\n",
    "x = re.findall(\"\\AData\", str6)\n",
    "\n",
    "print(x)"
   ]
  },
  {
   "cell_type": "code",
   "execution_count": null,
   "id": "61c945e2",
   "metadata": {},
   "outputs": [],
   "source": [
    "Question 9- Write a RegEx pattern in python program that matches a word at the end of a string."
   ]
  },
  {
   "cell_type": "code",
   "execution_count": null,
   "id": "16bacf78",
   "metadata": {},
   "outputs": [],
   "source": [
    "import re\n",
    "\n",
    "str7 = \"Data Science is used in AI\"\n",
    "\n",
    "x = re.findall(r\"AI\\b\", str7)\n",
    "\n",
    "print(x)"
   ]
  },
  {
   "cell_type": "code",
   "execution_count": null,
   "id": "6b69aa02",
   "metadata": {},
   "outputs": [],
   "source": [
    "Question 10- Write a RegEx pattern in python program to find all words that are 4 digits long in a string.\n",
    "Sample text- '01 0132 231875 1458 301 2725.'\n"
   ]
  },
  {
   "cell_type": "code",
   "execution_count": null,
   "id": "5094ce33",
   "metadata": {},
   "outputs": [],
   "source": [
    "import re\n",
    "\n",
    "Sample text- '01 0132 231875 1458 301 2725.'\n",
    "\n",
    "print(re.findall(r\"\\b\\w{4,}\\b\", Sample text))"
   ]
  },
  {
   "cell_type": "code",
   "execution_count": null,
   "id": "4304ac5b",
   "metadata": {},
   "outputs": [],
   "source": []
  },
  {
   "cell_type": "code",
   "execution_count": null,
   "id": "2bf6cf88",
   "metadata": {},
   "outputs": [],
   "source": [
    "\n"
   ]
  },
  {
   "cell_type": "code",
   "execution_count": null,
   "id": "5a6b52a6",
   "metadata": {},
   "outputs": [],
   "source": []
  }
 ],
 "metadata": {
  "kernelspec": {
   "display_name": "Python 3 (ipykernel)",
   "language": "python",
   "name": "python3"
  },
  "language_info": {
   "codemirror_mode": {
    "name": "ipython",
    "version": 3
   },
   "file_extension": ".py",
   "mimetype": "text/x-python",
   "name": "python",
   "nbconvert_exporter": "python",
   "pygments_lexer": "ipython3",
   "version": "3.9.12"
  }
 },
 "nbformat": 4,
 "nbformat_minor": 5
}
